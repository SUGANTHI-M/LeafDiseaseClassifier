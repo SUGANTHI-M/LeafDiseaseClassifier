{
 "cells": [
  {
   "cell_type": "markdown",
   "id": "4f68e2a6",
   "metadata": {},
   "source": [
    "#### Imports"
   ]
  },
  {
   "cell_type": "code",
   "execution_count": null,
   "id": "c775a58d",
   "metadata": {},
   "outputs": [],
   "source": [
    "import numpy as np\n",
    "import cv2\n",
    "import skimage\n",
    "from skimage import morphology\n",
    "from scipy import ndimage\n",
    "import os,glob\n",
    "from os import listdir,makedirs\n",
    "from os.path import isfile,join"
   ]
  },
  {
   "cell_type": "markdown",
   "id": "e37c1c22",
   "metadata": {},
   "source": [
    "#### Otsu segmentation"
   ]
  },
  {
   "cell_type": "code",
   "execution_count": null,
   "id": "0b35ce0f",
   "metadata": {},
   "outputs": [],
   "source": [
    "path = 'C:/Users/User1/Downloads/Mango/Anthracnose' # Source Folder\n",
    "dstpath = 'C:/Users/User1/Downloads/MangoOtsu/AnthracnoseOtsu' # Destination Folder\n",
    "try:\n",
    "    makedirs(dstpath)\n",
    "except:\n",
    "    print (\"Directory already exist, images will be written in same folder\")\n",
    "# Folder won't used\n",
    "files = list(filter(lambda f: isfile(join(path,f)), listdir(path)))\n",
    "for image in files:\n",
    "    try:\n",
    "        inputImage = cv2.imread(os.path.join(path,image))\n",
    "        # Convert RGB to grayscale:\n",
    "        grayscaleImage = cv2.cvtColor(inputImage, cv2.COLOR_BGR2GRAY)\n",
    "\n",
    "        Gaussian = cv2.GaussianBlur(grayscaleImage, (7, 7), 0) \n",
    "\n",
    "        # (Otsu) Threshold:\n",
    "        thresh, binaryImage = cv2.threshold(Gaussian, 0, 255, cv2.THRESH_BINARY + cv2.THRESH_OTSU)\n",
    "\n",
    "        #Inverting the mask\n",
    "        binaryImage = cv2.bitwise_not(binaryImage) \n",
    "\n",
    "        #Filling holes, closing and eroding operations\n",
    "        bitImage=ndimage.binary_fill_holes(binaryImage,structure=np.ones((3,3))).astype(np.uint8)\n",
    "        bitImage=skimage.morphology.binary_closing(bitImage).astype(np.uint8)\n",
    "        bitImage=skimage.morphology.erosion(bitImage).astype(np.uint8)\n",
    "\n",
    "        #Integrating mask with image\n",
    "        result = cv2.bitwise_and(inputImage, inputImage,mask=bitImage)\n",
    "\n",
    "        dstPath = join(dstpath,image)\n",
    "        cv2.imwrite(dstPath,result)\n",
    "    except:\n",
    "        print (\"{} is not converted\".format(image))"
   ]
  },
  {
   "cell_type": "markdown",
   "id": "f83dd6a8",
   "metadata": {},
   "source": [
    "#### HSV based segmentation"
   ]
  },
  {
   "cell_type": "code",
   "execution_count": null,
   "id": "66faed64",
   "metadata": {},
   "outputs": [],
   "source": [
    "path = 'C:/Users/User1/Downloads/Mango/PowderyMildew' # Source Folder\n",
    "dstpath = 'C:/Users/User1/Downloads/Mangohsv/PowderyMildewhsv' # Destination Folder\n",
    "try:\n",
    "    makedirs(dstpath)\n",
    "except:\n",
    "    print (\"Directory already exist, images will be written in same folder\")\n",
    "# Folder won't used\n",
    "files = list(filter(lambda f: isfile(join(path,f)), listdir(path)))\n",
    "for image in files:\n",
    "    try:\n",
    "        inputImage = cv2.imread(os.path.join(path,image))\n",
    "        # create hsv\n",
    "        hsv = cv2.cvtColor(inputImage, cv2.COLOR_BGR2HSV)\n",
    "         # set lower and upper color limits\n",
    "        low_val = (0,60,0)\n",
    "        high_val = (179,255,255)\n",
    "        # Threshold the HSV image \n",
    "        mask = cv2.inRange(hsv, low_val,high_val)\n",
    "        # remove noise\n",
    "        mask = cv2.morphologyEx(mask, cv2.MORPH_CLOSE, kernel=np.ones((8,8),dtype=np.uint8))\n",
    "\n",
    "        grayscaleImage = cv2.cvtColor(inputImage, cv2.COLOR_BGR2GRAY)\n",
    "        # apply mask to original image\n",
    "        result = cv2.bitwise_and(grayscaleImage, grayscaleImage,mask=mask)\n",
    "        \n",
    "        dstPath = join(dstpath,image)\n",
    "        cv2.imwrite(dstPath,result)\n",
    "    except:\n",
    "        print (\"{} is not converted\".format(image))"
   ]
  }
 ],
 "metadata": {
  "kernelspec": {
   "display_name": "Python 3 (ipykernel)",
   "language": "python",
   "name": "python3"
  },
  "language_info": {
   "codemirror_mode": {
    "name": "ipython",
    "version": 3
   },
   "file_extension": ".py",
   "mimetype": "text/x-python",
   "name": "python",
   "nbconvert_exporter": "python",
   "pygments_lexer": "ipython3",
   "version": "3.9.7"
  }
 },
 "nbformat": 4,
 "nbformat_minor": 5
}
